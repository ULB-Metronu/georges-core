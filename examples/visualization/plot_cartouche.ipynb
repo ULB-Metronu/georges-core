{
 "cells": [
  {
   "cell_type": "code",
   "execution_count": null,
   "id": "781a389c-8c79-4153-878d-08bc1d71ed90",
   "metadata": {},
   "outputs": [],
   "source": [
    "%load_ext autoreload\n",
    "%autoreload 2\n",
    "import georges_core\n",
    "from georges_core.units import ureg as _"
   ]
  },
  {
   "cell_type": "markdown",
   "id": "28627711-8653-45a2-bd78-37507157fb83",
   "metadata": {},
   "source": [
    "# Load and convert a line"
   ]
  },
  {
   "cell_type": "code",
   "execution_count": null,
   "id": "ffbbbb06-97b4-4239-8e8e-fa12b0ce61cf",
   "metadata": {
    "tags": []
   },
   "outputs": [],
   "source": [
    "line = georges_core.sequences.BDSIMSequence(path=\"../converter/BDSIM/\",\n",
    "                                            filename='output.root'\n",
    "                                           )"
   ]
  },
  {
   "cell_type": "code",
   "execution_count": null,
   "id": "75b03126-43de-4a36-850b-2ef94aa3895d",
   "metadata": {},
   "outputs": [],
   "source": [
    "df_label = line.df[['AT_CENTER', 'CLASS']]\n",
    "df_label.query(\"CLASS == 'Quadrupole'\", inplace=True)"
   ]
  },
  {
   "cell_type": "code",
   "execution_count": null,
   "id": "7a949076-dabc-4b5c-9aa8-143b3de6efcb",
   "metadata": {
    "tags": []
   },
   "outputs": [],
   "source": [
    "artist = georges_core.vis.MatplotlibArtist()\n",
    "artist.plot_cartouche(line.df, print_label=True, labels=df_label)\n",
    "artist.plot_beamline(line.df, print_label=False)"
   ]
  },
  {
   "cell_type": "code",
   "execution_count": null,
   "id": "03d74e15-925f-45da-b5a7-5561c94c171c",
   "metadata": {},
   "outputs": [],
   "source": []
  }
 ],
 "metadata": {
  "kernelspec": {
   "display_name": "georges-core",
   "language": "python",
   "name": "georges_core"
  },
  "language_info": {
   "codemirror_mode": {
    "name": "ipython",
    "version": 3
   },
   "file_extension": ".py",
   "mimetype": "text/x-python",
   "name": "python",
   "nbconvert_exporter": "python",
   "pygments_lexer": "ipython3",
   "version": "3.8.12+"
  }
 },
 "nbformat": 4,
 "nbformat_minor": 5
}
