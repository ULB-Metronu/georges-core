{
 "cells": [
  {
   "cell_type": "code",
   "execution_count": null,
   "metadata": {
    "pycharm": {
     "is_executing": false,
     "name": "#%%\n"
    }
   },
   "outputs": [],
   "source": [
    "\n",
    "%load_ext autoreload\n",
    "%autoreload 2\n",
    "import concurrent.futures\n",
    "import numpy as np\n",
    "from georges_core.codes_io.bdsim import *\n"
   ]
  },
  {
   "cell_type": "code",
   "execution_count": null,
   "metadata": {
    "pycharm": {
     "is_executing": false,
     "name": "#%%\n"
    }
   },
   "outputs": [],
   "source": [
    "\n",
    "output = BDSimOutput(path=\"/Users/chernals/Downloads/\")"
   ]
  },
  {
   "cell_type": "code",
   "execution_count": null,
   "metadata": {
    "pycharm": {
     "is_executing": false,
     "name": "#%%\n"
    }
   },
   "outputs": [],
   "source": [
    "output.event.tree['Histos.histograms1D'].array()"
   ]
  },
  {
   "cell_type": "code",
   "execution_count": null,
   "metadata": {
    "pycharm": {
     "is_executing": false,
     "name": "#%%\n"
    }
   },
   "outputs": [],
   "source": [
    "# %%timeit -n 1 -r 1\n",
    "executor = concurrent.futures.ThreadPoolExecutor(max_workers=8)\n",
    "output = BDSimOutput(\"test-1.root\", path='/Users/chernals/cernbox')\n",
    "ar = output.event.tree.arrays(branches=output.event.tree['Histos.'].keys()[1:4:2],\n",
    "                              executor=executor)\n",
    "r = {}\n",
    "for k, v in ar.items():\n",
    "    for i in range(0, len(v)):\n",
    "        r[f\"{k}_{i}\"] = merge_histograms(v, i)\n",
    "r\n",
    "#ar3d = output.event.tree['Histos.histograms3D'].array()\n"
   ]
  },
  {
   "cell_type": "code",
   "execution_count": null,
   "metadata": {
    "pycharm": {
     "is_executing": false,
     "name": "#%%\n"
    }
   },
   "outputs": [],
   "source": [
    "ar"
   ]
  },
  {
   "cell_type": "code",
   "execution_count": null,
   "metadata": {
    "pycharm": {
     "is_executing": false,
     "name": "#%%\n"
    }
   },
   "outputs": [],
   "source": [
    "\n",
    "def discover_histograms(histograms):\n",
    "    return {h.name.decode('utf-8'): i for i, h in enumerate(histograms[0])}\n",
    "\n",
    "def merge_histograms(histograms, index):\n",
    "    _ = np.array([\n",
    "        h[index].values for h in histograms\n",
    "    ])\n",
    "    return np.mean(_, 1), np.std(_, 1)\n"
   ]
  },
  {
   "cell_type": "code",
   "execution_count": null,
   "metadata": {
    "pycharm": {
     "is_executing": false,
     "name": "#%%\n"
    }
   },
   "outputs": [],
   "source": [
    "\n",
    "%%timeit -n 1 -r 1\n",
    "output = BDSimOutput(\"test-1.root\", path='/Users/chernals/cernbox')\n",
    "ar1d = output.event.tree['Histos.histograms1D'].array()\n",
    "print(merge_histograms(ar1d, 0))\n",
    "\n"
   ]
  },
  {
   "cell_type": "code",
   "execution_count": null,
   "metadata": {
    "pycharm": {
     "is_executing": false,
     "name": "#%%\n"
    }
   },
   "outputs": [],
   "source": [
    "\n",
    "%%timeit -n 1 -r 1\n",
    "tmp.shape\n"
   ]
  },
  {
   "cell_type": "code",
   "execution_count": null,
   "metadata": {
    "pycharm": {
     "is_executing": false,
     "name": "#%%\n"
    }
   },
   "outputs": [],
   "source": [
    "\n",
    "output.header.header.df\n"
   ]
  },
  {
   "cell_type": "code",
   "execution_count": null,
   "metadata": {
    "pycharm": {
     "is_executing": false,
     "name": "#%%\n"
    }
   },
   "outputs": [],
   "source": [
    "\n",
    "o = ReBDSimOpticsOutput(\"/Users/chernals/Downloads/optics_alpha_0.1.root\")\n",
    "o.optics.df.values\n"
   ]
  },
  {
   "cell_type": "code",
   "execution_count": null,
   "metadata": {
    "pycharm": {
     "is_executing": false,
     "name": "#%%\n"
    }
   },
   "outputs": [],
   "source": [
    "\n",
    "o.directory['Optics']['Mean_E'].name\n"
   ]
  },
  {
   "cell_type": "code",
   "execution_count": null,
   "metadata": {
    "pycharm": {
     "is_executing": false,
     "name": "#%%\n"
    }
   },
   "outputs": [],
   "source": [
    "\n",
    "o.Eventtt\n"
   ]
  },
  {
   "cell_type": "code",
   "execution_count": null,
   "metadata": {
    "pycharm": {
     "is_executing": false,
     "name": "#%%\n"
    }
   },
   "outputs": [],
   "source": [
    "\n",
    "re = ReBDSimOutput(\"/Users/chernals/cernbox/scoring.root\")\n",
    "re.event['MergedHistograms'][b'PhitsHisto;1'].allnumpy() -\n"
   ]
  },
  {
   "cell_type": "code",
   "execution_count": null,
   "metadata": {
    "pycharm": {
     "is_executing": false,
     "name": "#%%\n"
    }
   },
   "outputs": [],
   "source": [
    "\n",
    "re.event.MergedHistograms.PhitsHisto.allnumpy()\n"
   ]
  },
  {
   "cell_type": "code",
   "execution_count": null,
   "metadata": {
    "pycharm": {
     "is_executing": false,
     "name": "#%%\n"
    }
   },
   "outputs": [],
   "source": [
    "\n",
    "re.event.MergedHistograms.PhitsHisto.values\n"
   ]
  }
 ],
 "metadata": {
  "kernelspec": {
   "display_name": "py38",
   "language": "python",
   "name": "py38"
  },
  "language_info": {
   "codemirror_mode": {
    "name": "ipython",
    "version": 2
   },
   "file_extension": ".py",
   "mimetype": "text/x-python",
   "name": "python",
   "nbconvert_exporter": "python",
   "pygments_lexer": "ipython2",
   "version": "2.7.6"
  },
  "pycharm": {
   "stem_cell": {
    "cell_type": "raw",
    "metadata": {
     "collapsed": false
    },
    "source": []
   }
  }
 },
 "nbformat": 4,
 "nbformat_minor": 0
}
