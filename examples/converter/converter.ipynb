{
 "cells": [
  {
   "cell_type": "code",
   "execution_count": null,
   "id": "insured-listening",
   "metadata": {},
   "outputs": [],
   "source": [
    "%load_ext autoreload\n",
    "%autoreload 2\n",
    "import georges_core\n",
    "from georges_core.units import ureg as _"
   ]
  },
  {
   "cell_type": "markdown",
   "id": "arranged-import",
   "metadata": {},
   "source": [
    "# Load a MAD-X Twiss file"
   ]
  },
  {
   "cell_type": "code",
   "execution_count": null,
   "id": "1599f11f-32a3-47dd-b122-1cee6d304a40",
   "metadata": {},
   "outputs": [],
   "source": [
    "madx_line = georges_core.sequences.TwissSequence(path='MADX',\n",
    "                                                 filename='twiss_madx.tfs',\n",
    "                                                 with_units=True\n",
    "                                                )"
   ]
  },
  {
   "cell_type": "markdown",
   "id": "6c5bfbc8-4436-4b32-a179-660e51a82d9e",
   "metadata": {},
   "source": [
    "# Load a MAD-NG Twiss file\n",
    "\n",
    "As the particle is not (yet) written in the header os the Twiss file, you must define the particle name and its kinematics for MAD-G Twiss file. Moreover, you have to specify the lines to skip when you read the Twiss file."
   ]
  },
  {
   "cell_type": "code",
   "execution_count": null,
   "id": "reported-clause",
   "metadata": {},
   "outputs": [],
   "source": [
    "kin = georges_core.Kinematics(140 * _.MeV)"
   ]
  },
  {
   "cell_type": "code",
   "execution_count": null,
   "id": "62db4f10-dc2f-490a-81f3-a9a6c88c3d6e",
   "metadata": {},
   "outputs": [],
   "source": [
    "mad_line = georges_core.sequences.TwissSequence(path='MADNG',\n",
    "                                                filename='twiss_madng.tfs',\n",
    "                                                with_units=True,\n",
    "                                                lines=34,\n",
    "                                                kinematics=kin)"
   ]
  },
  {
   "cell_type": "markdown",
   "id": "9008207c-6f5d-4b1c-9ada-3b783caaad2d",
   "metadata": {},
   "source": [
    "This line can now be used to track using Zgoubidoo or Manzoni."
   ]
  }
 ],
 "metadata": {
  "kernelspec": {
   "display_name": "georges_core",
   "language": "python",
   "name": "georges_core"
  },
  "language_info": {
   "codemirror_mode": {
    "name": "ipython",
    "version": 3
   },
   "file_extension": ".py",
   "mimetype": "text/x-python",
   "name": "python",
   "nbconvert_exporter": "python",
   "pygments_lexer": "ipython3",
   "version": "3.8.10+"
  },
  "toc-autonumbering": true,
  "toc-showcode": true,
  "toc-showmarkdowntxt": true
 },
 "nbformat": 4,
 "nbformat_minor": 5
}
