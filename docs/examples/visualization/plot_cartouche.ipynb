{
 "cells": [
  {
   "cell_type": "code",
   "execution_count": null,
   "id": "781a389c-8c79-4153-878d-08bc1d71ed90",
   "metadata": {},
   "outputs": [],
   "source": [
    "%load_ext autoreload\n",
    "%autoreload 2\n",
    "import georges_core\n",
    "from georges_core.units import ureg as _"
   ]
  },
  {
   "cell_type": "markdown",
   "id": "28627711-8653-45a2-bd78-37507157fb83",
   "metadata": {},
   "source": [
    "# Load and convert a line"
   ]
  },
  {
   "cell_type": "code",
   "execution_count": null,
   "id": "ffbbbb06-97b4-4239-8e8e-fa12b0ce61cf",
   "metadata": {},
   "outputs": [],
   "source": [
    "line = georges_core.sequences.BDSIMSequence(path='../converter/BDSIM/',\n",
    "                                            filename='output.root'\n",
    "                                           )"
   ]
  },
  {
   "cell_type": "code",
   "execution_count": null,
   "id": "7a949076-dabc-4b5c-9aa8-143b3de6efcb",
   "metadata": {},
   "outputs": [],
   "source": [
    "artist = georges_core.vis.MatplotlibArtist()\n",
    "artist.plot_cartouche(line.df)\n",
    "artist.plot_beamline(line.df)"
   ]
  },
  {
   "cell_type": "code",
   "execution_count": null,
   "id": "f717e140-0769-402b-9194-7a5b63cf2106",
   "metadata": {},
   "outputs": [],
   "source": []
  }
 ],
 "metadata": {
  "kernelspec": {
   "display_name": "georges-core",
   "language": "python",
   "name": "georges_core"
  },
  "language_info": {
   "codemirror_mode": {
    "name": "ipython",
    "version": 3
   },
   "file_extension": ".py",
   "mimetype": "text/x-python",
   "name": "python",
   "nbconvert_exporter": "python",
   "pygments_lexer": "ipython3",
   "version": "3.8.12+"
  }
 },
 "nbformat": 4,
 "nbformat_minor": 5
}
