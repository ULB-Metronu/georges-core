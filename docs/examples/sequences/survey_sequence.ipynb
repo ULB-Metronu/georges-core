{
 "cells": [
  {
   "cell_type": "markdown",
   "id": "small-library",
   "metadata": {},
   "source": [
    "# Create a sequence from scratch"
   ]
  },
  {
   "cell_type": "code",
   "execution_count": null,
   "id": "powered-attitude",
   "metadata": {},
   "outputs": [],
   "source": [
    "import os\n",
    "import pandas as pd\n",
    "import numpy as np\n",
    "import matplotlib.pyplot as plt\n",
    "\n",
    "import georges_core\n",
    "from georges_core.sequences import PlacementSequence, SequenceMetadata, SurveySequence, Element\n",
    "from georges_core.units import ureg as _ureg\n",
    "from georges_core import Kinematics\n",
    "\n",
    "import georges\n",
    "from georges import vis\n",
    "from georges import manzoni\n",
    "from georges.manzoni import Input, Beam\n",
    "from georges.manzoni.integrators import MadXIntegrator, \\\n",
    "                    TransportFirstOrderTaylorIntegrator, \\\n",
    "                    TransportSecondOrderTaylorIntegrator, \\\n",
    "                    TransportFirstOrderTaylorIntegratorExact, \\\n",
    "                    TransportSecondOrderTaylorIntegratorExact"
   ]
  },
  {
   "cell_type": "code",
   "execution_count": null,
   "id": "available-favorite",
   "metadata": {
    "tags": []
   },
   "outputs": [],
   "source": [
    "def set_size(width, fraction=1, subplots=(1, 1)):\n",
    "    \"\"\" Set figure dimensions to avoid scaling in LaTeX.\n",
    "\n",
    "     Parameters\n",
    "    ----------\n",
    "    width: float or string\n",
    "    Document width in points, or string of predined document type\n",
    "    fraction: float, optional\n",
    "    Fraction of the width which you wish the figure to occupy\n",
    "    subplots: array-like, optional\n",
    "    The number of rows and columns of subplots.\n",
    "    Returns\n",
    "    -------\n",
    "    fig_dim: tuple\n",
    "    Dimensions of figure in inches\n",
    "    \"\"\"\n",
    "    if width == 'thesis':\n",
    "        width_pt = 426.79135\n",
    "    elif width == 'beamer':\n",
    "        width_pt = 307.28987\n",
    "    elif width == 'pnas':\n",
    "        width_pt = 246.09686\n",
    "    else:\n",
    "        width_pt = width\n",
    "\n",
    "     # Width of figure (in pts)\n",
    "    fig_width_pt = width_pt * fraction\n",
    "    # Convert from pt to inches\n",
    "    inches_per_pt = 1 / 72.27\n",
    "\n",
    "     # Golden ratio to set aesthetic figure height\n",
    "    golden_ratio = (5**.5 - 1) / 2\n",
    "\n",
    "     # Figure width in inches\n",
    "    fig_width_in = fig_width_pt * inches_per_pt\n",
    "    # Figure height in inches\n",
    "    fig_height_in = fig_width_in * golden_ratio * (subplots[0] / subplots[1])\n",
    "\n",
    "    return (fig_width_in, fig_height_in)\n",
    "\n",
    "def get_paper_figure_parameter(width, height=None, fontsize=10, labelsize=8, **kwargs):\n",
    "\n",
    "    if height == None:\n",
    "        plt.rcParams['figure.figsize'] = set_size(width)\n",
    "    else:\n",
    "        plt.rcParams['figure.figsize'] = (width * 1 / 72.27, height * 1 / 72.27)\n",
    "\n",
    "    plt.rc('text', usetex=True)\n",
    "    plt.rc('font', family='serif', serif='Times', size=fontsize)\n",
    "    plt.rc('xtick', labelsize=labelsize)\n",
    "    plt.rc('ytick', labelsize=labelsize)\n",
    "    plt.rc('axes', labelsize=labelsize)\n",
    "\n",
    "     # plt.rcParams['axes.labelsize'] = 10\n",
    "    plt.rcParams['lines.markersize'] = 5\n",
    "    plt.rcParams['lines.linewidth'] = 0.7\n",
    "    plt.rcParams['legend.fontsize'] = 8\n",
    "\n",
    "     ## Figure parameters\n",
    "    plt.rcParams['figure.dpi'] = kwargs.get('dpi', 500)\n",
    "    plt.rcParams['figure.facecolor'] = 'w'\n",
    "    plt.rcParams['figure.edgecolor'] = 'k'\n",
    "    plt.rcParams['figure.autolayout'] = True\n",
    "    plt.rcParams['savefig.dpi'] = kwargs.get('dpi', 500)\n",
    "\n",
    "     ## Legend sizes\n",
    "    plt.rcParams['axes.grid'] = True\n",
    "    plt.rcParams['axes.linewidth'] = 0.1 #set the value globally\n",
    "\n",
    "    return plt.rc"
   ]
  },
  {
   "cell_type": "markdown",
   "id": "subject-safety",
   "metadata": {},
   "source": [
    "### Define kinematics and beam"
   ]
  },
  {
   "cell_type": "code",
   "execution_count": null,
   "id": "generous-preference",
   "metadata": {},
   "outputs": [],
   "source": [
    "particle = georges_core.particles.Proton\n",
    "kin = georges_core.Kinematics(230*_ureg.MeV,\n",
    "                              particle=particle, \n",
    "                              kinetic=True)"
   ]
  },
  {
   "cell_type": "code",
   "execution_count": null,
   "id": "interstate-yesterday",
   "metadata": {},
   "outputs": [],
   "source": [
    "beam_distr = georges_core.Distribution().from_5d_multigaussian_distribution(n=10000,\n",
    "                                                                            XRMS=5e-3,\n",
    "                                                                            PXRMS=5e-3,\n",
    "                                                                            YRMS=5e-3,\n",
    "                                                                            PYRMS=5e-3).distribution\n",
    "beam = Beam(kinematics = kin,\n",
    "            distribution = beam_distr)"
   ]
  },
  {
   "cell_type": "markdown",
   "id": "strange-desire",
   "metadata": {},
   "source": [
    "### Define sequence manually"
   ]
  },
  {
   "cell_type": "code",
   "execution_count": null,
   "id": "fresh-progressive",
   "metadata": {},
   "outputs": [],
   "source": [
    "def define_sequence(integrator, aperture): # Generic function to modify the manzoni integrator and the aperture\n",
    "    \n",
    "    d1 = Element.Drift(NAME=\"D1\",\n",
    "                   integrator=integrator,\n",
    "                   L=0.3* _ureg.m,\n",
    "                   APERTYPE=\"CIRCULAR\",\n",
    "                   APERTURE=[aperture*_ureg.cm, aperture*_ureg.cm])\n",
    "    qf = Element.Quadrupole(NAME=\"Q1\",\n",
    "                            integrator=integrator,\n",
    "                            L=0.3*_ureg.m,\n",
    "                            K1=2*_ureg.m**-2,\n",
    "                            APERTYPE=\"CIRCULAR\",\n",
    "                            APERTURE=[aperture*_ureg.cm, aperture*_ureg.cm])\n",
    "    d2 = Element.Drift(NAME=\"D2\",\n",
    "                       integrator=integrator,\n",
    "                       L=0.3*_ureg.m,\n",
    "                       APERTYPE=\"CIRCULAR\",\n",
    "                       APERTURE=[aperture*_ureg.cm, aperture*_ureg.cm])\n",
    "    b1 = Element.SBend(NAME=\"B1\",\n",
    "                       integrator=integrator,\n",
    "                       L=1*_ureg.m,\n",
    "                       ANGLE=30*_ureg.degrees,\n",
    "                       K1=0*_ureg.m**-2,\n",
    "                       APERTYPE=\"CIRCULAR\",\n",
    "                       APERTURE=[aperture*_ureg.cm, aperture*_ureg.cm])\n",
    "    d3 = Element.Drift(NAME=\"D3\",\n",
    "                       integrator=integrator,\n",
    "                       L=0.3*_ureg.m,\n",
    "                       APERTYPE=\"CIRCULAR\",\n",
    "                       APERTURE=[aperture*_ureg.cm, aperture*_ureg.cm])\n",
    "    qd = Element.Quadrupole(NAME=\"Q2\",\n",
    "                            integrator=integrator,\n",
    "                            L=0.3*_ureg.m,\n",
    "                            K1=-2*_ureg.m**-2,\n",
    "                            APERTYPE=\"CIRCULAR\",\n",
    "                            APERTURE=[aperture*_ureg.cm, aperture*_ureg.cm])\n",
    "    d4 = Element.Drift(NAME=\"D4\",\n",
    "                       integrator=integrator,\n",
    "                       L=0.3*_ureg.m,\n",
    "                       APERTYPE=\"CIRCULAR\",\n",
    "                       APERTURE=[aperture*_ureg.cm, aperture*_ureg.cm])\n",
    "    b2 = Element.SBend(NAME=\"B2\",\n",
    "                       integrator=integrator,\n",
    "                       L=1*_ureg.m,\n",
    "                       ANGLE=-30*_ureg.degrees,\n",
    "                       K1=0*_ureg.m**-2,\n",
    "                       APERTYPE=\"CIRCULAR\",\n",
    "                       APERTURE=[aperture*_ureg.cm, aperture*_ureg.cm])\n",
    "    d5 = Element.Drift(NAME=\"D5\",\n",
    "                       integrator=integrator,\n",
    "                       L=0.3*_ureg.m,\n",
    "                       APERTYPE=\"CIRCULAR\",\n",
    "                       APERTURE=[aperture*_ureg.cm, aperture*_ureg.cm])\n",
    "    \n",
    "    sequence = PlacementSequence(name=\"TEST\")\n",
    "    \n",
    "    sequence.place(d1,at_entry=0)\n",
    "    sequence.place_after_last(qf)\n",
    "    sequence.place_after_last(d2)\n",
    "    sequence.place_after_last(b1)\n",
    "    sequence.place_after_last(d3)\n",
    "    sequence.place_after_last(qd)\n",
    "    sequence.place_after_last(d4)\n",
    "    sequence.place_after_last(b2)\n",
    "    sequence.place_after_last(d5)    \n",
    "\n",
    "    return sequence"
   ]
  },
  {
   "cell_type": "code",
   "execution_count": null,
   "id": "athletic-inspector",
   "metadata": {},
   "outputs": [],
   "source": [
    "sequence_madx = define_sequence(MadXIntegrator, 10)\n",
    "sequence_transport_order_1 = define_sequence(TransportFirstOrderTaylorIntegrator, 10)\n",
    "sequence_transport_order_2 = define_sequence(TransportSecondOrderTaylorIntegrator, 10)"
   ]
  },
  {
   "cell_type": "markdown",
   "id": "attractive-brush",
   "metadata": {},
   "source": [
    "### Load sequence using SurveySequence (from a csv file)"
   ]
  },
  {
   "cell_type": "markdown",
   "id": "instant-impossible",
   "metadata": {},
   "source": [
    "#### Based on AT"
   ]
  },
  {
   "cell_type": "code",
   "execution_count": null,
   "id": "familiar-laser",
   "metadata": {},
   "outputs": [],
   "source": [
    "sequence_survey = SurveySequence(filename=\"survey.csv\")\n",
    "sequence_survey.expand(); # This must be done before tracking !"
   ]
  },
  {
   "cell_type": "markdown",
   "id": "historic-enemy",
   "metadata": {},
   "source": [
    "#### Based on XYZ"
   ]
  },
  {
   "cell_type": "code",
   "execution_count": null,
   "id": "republican-baptist",
   "metadata": {},
   "outputs": [],
   "source": [
    "sequence_survey_global = SurveySequence(filename=\"bdsim_survey.dat\")"
   ]
  },
  {
   "cell_type": "markdown",
   "id": "amateur-provider",
   "metadata": {},
   "source": [
    "### Track with MANZONI"
   ]
  },
  {
   "cell_type": "code",
   "execution_count": null,
   "id": "olive-washer",
   "metadata": {},
   "outputs": [],
   "source": [
    "mi_madx = manzoni.Input.from_sequence(sequence=sequence_madx)\n",
    "mi_transport_order_1 = manzoni.Input.from_sequence(sequence=sequence_transport_order_1)\n",
    "mi_transport_order_2 = manzoni.Input.from_sequence(sequence=sequence_transport_order_2)\n",
    "mi_survey = manzoni.Input.from_sequence(sequence=sequence_survey)\n",
    "\n",
    "obs_madx = georges.manzoni.SigmaObserver()\n",
    "obs_transport_order_1 = georges.manzoni.SigmaObserver()\n",
    "obs_transport_order_2 = georges.manzoni.SigmaObserver()\n",
    "obs_survey = georges.manzoni.SigmaObserver()\n",
    "\n",
    "mi_madx.track(beam=beam,\n",
    "              observers=[obs_madx])\n",
    "mi_transport_order_1.track(beam=beam,\n",
    "              observers=[obs_transport_order_1])\n",
    "mi_transport_order_2.track(beam=beam,\n",
    "              observers=[obs_transport_order_2])\n",
    "mi_survey.track(beam=beam,\n",
    "              observers=[obs_survey])\n",
    "\n",
    "res_madx = obs_madx.to_df()\n",
    "res_transport_order_1 = obs_transport_order_1.to_df()\n",
    "res_transport_order_2 = obs_transport_order_2.to_df()\n",
    "res_survey = obs_survey.to_df()"
   ]
  },
  {
   "cell_type": "code",
   "execution_count": null,
   "id": "electrical-species",
   "metadata": {},
   "outputs": [],
   "source": [
    "res_survey"
   ]
  },
  {
   "cell_type": "code",
   "execution_count": null,
   "id": "impressed-panic",
   "metadata": {},
   "outputs": [],
   "source": [
    "res_survey.set_index(\"LABEL1\",inplace=True)\n",
    "res_survey.drop(index=['START','END'],inplace=True)"
   ]
  },
  {
   "cell_type": "code",
   "execution_count": null,
   "id": "flexible-manor",
   "metadata": {},
   "outputs": [],
   "source": [
    "res_survey"
   ]
  },
  {
   "cell_type": "markdown",
   "id": "dangerous-frontier",
   "metadata": {},
   "source": [
    "### Load BDSIM results"
   ]
  },
  {
   "cell_type": "code",
   "execution_count": null,
   "id": "stuffed-small",
   "metadata": {},
   "outputs": [],
   "source": [
    "bdsim_res = pd.read_csv('bdsim_results.csv')"
   ]
  },
  {
   "cell_type": "code",
   "execution_count": null,
   "id": "certain-print",
   "metadata": {},
   "outputs": [],
   "source": [
    "bdsim_res"
   ]
  },
  {
   "cell_type": "markdown",
   "id": "dress-portrait",
   "metadata": {},
   "source": [
    "### Plots for comparison"
   ]
  },
  {
   "cell_type": "code",
   "execution_count": null,
   "id": "mounted-digest",
   "metadata": {},
   "outputs": [],
   "source": [
    "df = sequence_madx.df.copy()\n",
    "for line,_ in df.iterrows():\n",
    "    if line != \"D1\":\n",
    "        df.at[line,'AT_ENTRY'] = df.at[line,'AT_ENTRY'].m_as('m')\n",
    "        df.at[line,'AT_CENTER'] = df.at[line,'AT_CENTER'].m_as('m')\n",
    "        df.at[line,'AT_EXIT'] = df.at[line,'AT_EXIT'].m_as('m')\n",
    "        \n",
    "df.at['D1','AT_CENTER'] = df.at['D1','AT_CENTER'].m_as('m')\n",
    "df.at['D1','AT_EXIT'] = df.at['D1','AT_EXIT'].m_as('m')\n",
    "\n",
    "df['TYPE'] = ['Drift','Quadrupole','Drift','SBend','Drift','Quadrupole','Drift','SBend','Drift']\n",
    "df['CLASS'] = ['Drift','Quadrupole','Drift','SBend','Drift','Quadrupole','Drift','SBend','Drift']"
   ]
  },
  {
   "cell_type": "markdown",
   "id": "superior-separation",
   "metadata": {},
   "source": [
    "### X axis"
   ]
  },
  {
   "cell_type": "code",
   "execution_count": null,
   "id": "boolean-happening",
   "metadata": {},
   "outputs": [],
   "source": [
    "plt.rc=get_paper_figure_parameter(238.25444)\n",
    "plt.rcParams['legend.fontsize'] = 10\n",
    "plt.rc('text', usetex=True)\n",
    "\n",
    "# fig = plt.figure()\n",
    "# ax = fig.add_subplot(111)\n",
    "\n",
    "# manzoni_plot = vis.ManzoniMatplotlibArtist(ax=ax)\n",
    "\n",
    "# manzoni_plot.prepare(ax,\n",
    "#                      df,\n",
    "#                      with_beamline=True,\n",
    "#                      print_label=False,\n",
    "#                      ylim=[-20,20])\n",
    "\n",
    "plt.plot(bdsim_res['S'],\n",
    "         1e3*res_madx['BEAM_OUT_X'],\n",
    "         color='b',\n",
    "         linestyle='dashed',\n",
    "         marker='*',\n",
    "         label=\"Manzoni - MadX\",\n",
    "         markersize=2)\n",
    "plt.plot(bdsim_res['S'],\n",
    "         1e3*res_transport_order_1['BEAM_OUT_X'],\n",
    "         color='k',\n",
    "         linestyle='dashed',\n",
    "         marker='*',\n",
    "         label=\"Manzoni - Transport 1\",\n",
    "         markersize=2)\n",
    "plt.plot(bdsim_res['S'],\n",
    "         1e3*res_transport_order_2['BEAM_OUT_X'],\n",
    "         color='g',\n",
    "         linestyle='dashed',\n",
    "         marker='*',\n",
    "         label=\"Manzoni - Transport 2\",\n",
    "         markersize=2)\n",
    "plt.plot(bdsim_res['S'],\n",
    "         1e3*res_survey['BEAM_OUT_X'],\n",
    "         color='m',\n",
    "         linestyle='dashed',\n",
    "         marker='*',\n",
    "         label=\"Manzoni - MadX - from survey\",\n",
    "         markersize=2)\n",
    "\n",
    "plt.plot(bdsim_res['S'],\n",
    "         1e3*bdsim_res['X'],\n",
    "         color='r',\n",
    "         linestyle='dashed',\n",
    "         marker='*',\n",
    "         label='BDSIM',\n",
    "         markersize=2)\n",
    "\n",
    "plt.xlabel('S (m)')\n",
    "plt.ylabel('$\\sigma_x$ (mm)')\n",
    "\n",
    "plt.grid()\n",
    "plt.legend(fontsize=6)"
   ]
  },
  {
   "cell_type": "markdown",
   "id": "essential-nowhere",
   "metadata": {},
   "source": [
    "### Y axis"
   ]
  },
  {
   "cell_type": "code",
   "execution_count": null,
   "id": "advisory-plenty",
   "metadata": {},
   "outputs": [],
   "source": [
    "plt.rc=get_paper_figure_parameter(238.25444)\n",
    "plt.rcParams['legend.fontsize'] = 10\n",
    "plt.rc('text', usetex=True)\n",
    "\n",
    "plt.plot(bdsim_res['S'],\n",
    "         1e3*res_madx['BEAM_OUT_Y'],\n",
    "         color='b',\n",
    "         linestyle='dashed',\n",
    "         marker='*',\n",
    "         label=\"Manzoni - MadX\",\n",
    "         markersize=2)\n",
    "plt.plot(bdsim_res['S'],\n",
    "         1e3*res_transport_order_1['BEAM_OUT_Y'],\n",
    "         color='k',\n",
    "         linestyle='dashed',\n",
    "         marker='*',\n",
    "         label=\"Manzoni - Transport 1\",\n",
    "         markersize=2)\n",
    "plt.plot(bdsim_res['S'],\n",
    "         1e3*res_transport_order_2['BEAM_OUT_Y'],\n",
    "         color='g',\n",
    "         linestyle='dashed',\n",
    "         marker='*',\n",
    "         label=\"Manzoni - Transport 2\",\n",
    "         markersize=2)\n",
    "plt.plot(bdsim_res['S'],\n",
    "         1e3*res_survey['BEAM_OUT_Y'],\n",
    "         color='m',\n",
    "         linestyle='dashed',\n",
    "         marker='*',\n",
    "         label=\"Manzoni - MadX - from survey\",\n",
    "         markersize=2)\n",
    "\n",
    "plt.plot(bdsim_res['S'],\n",
    "         1e3*bdsim_res['Y'],\n",
    "         color='r',\n",
    "         linestyle='dashed',\n",
    "         marker='*',\n",
    "         label='BDSIM',\n",
    "         markersize=2)\n",
    "\n",
    "\n",
    "plt.xlabel('S (m)')\n",
    "plt.ylabel('$\\sigma_y$ (mm)')\n",
    "plt.grid()\n",
    "plt.legend(fontsize=6)"
   ]
  }
 ],
 "metadata": {
  "kernelspec": {
   "display_name": "georges_core",
   "language": "python",
   "name": "georges_core"
  },
  "language_info": {
   "codemirror_mode": {
    "name": "ipython",
    "version": 3
   },
   "file_extension": ".py",
   "mimetype": "text/x-python",
   "name": "python",
   "nbconvert_exporter": "python",
   "pygments_lexer": "ipython3",
   "version": "3.8.10+"
  }
 },
 "nbformat": 4,
 "nbformat_minor": 5
}
